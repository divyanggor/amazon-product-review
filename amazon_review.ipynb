{
  "nbformat": 4,
  "nbformat_minor": 0,
  "metadata": {
    "colab": {
      "name": "Dphi_project.ipynb",
      "provenance": [],
      "collapsed_sections": []
    },
    "kernelspec": {
      "display_name": "Python 3",
      "language": "python",
      "name": "python3"
    },
    "language_info": {
      "codemirror_mode": {
        "name": "ipython",
        "version": 3
      },
      "file_extension": ".py",
      "mimetype": "text/x-python",
      "name": "python",
      "nbconvert_exporter": "python",
      "pygments_lexer": "ipython3",
      "version": "3.8.5"
    },
    "widgets": {
      "application/vnd.jupyter.widget-state+json": {
        "52642d0dcce440fabed070e660c29e79": {
          "model_module": "@jupyter-widgets/controls",
          "model_name": "HBoxModel",
          "state": {
            "_view_name": "HBoxView",
            "_dom_classes": [],
            "_model_name": "HBoxModel",
            "_view_module": "@jupyter-widgets/controls",
            "_model_module_version": "1.5.0",
            "_view_count": null,
            "_view_module_version": "1.5.0",
            "box_style": "",
            "layout": "IPY_MODEL_5c8d69356ac94b108b6a0de5629915d1",
            "_model_module": "@jupyter-widgets/controls",
            "children": [
              "IPY_MODEL_6ba5cbe3972c4425b498e4f1d0c97bce",
              "IPY_MODEL_3736117090104dfaa6944a8aa1c46d91"
            ]
          }
        },
        "5c8d69356ac94b108b6a0de5629915d1": {
          "model_module": "@jupyter-widgets/base",
          "model_name": "LayoutModel",
          "state": {
            "_view_name": "LayoutView",
            "grid_template_rows": null,
            "right": null,
            "justify_content": null,
            "_view_module": "@jupyter-widgets/base",
            "overflow": null,
            "_model_module_version": "1.2.0",
            "_view_count": null,
            "flex_flow": null,
            "width": null,
            "min_width": null,
            "border": null,
            "align_items": null,
            "bottom": null,
            "_model_module": "@jupyter-widgets/base",
            "top": null,
            "grid_column": null,
            "overflow_y": null,
            "overflow_x": null,
            "grid_auto_flow": null,
            "grid_area": null,
            "grid_template_columns": null,
            "flex": null,
            "_model_name": "LayoutModel",
            "justify_items": null,
            "grid_row": null,
            "max_height": null,
            "align_content": null,
            "visibility": null,
            "align_self": null,
            "height": null,
            "min_height": null,
            "padding": null,
            "grid_auto_rows": null,
            "grid_gap": null,
            "max_width": null,
            "order": null,
            "_view_module_version": "1.2.0",
            "grid_template_areas": null,
            "object_position": null,
            "object_fit": null,
            "grid_auto_columns": null,
            "margin": null,
            "display": null,
            "left": null
          }
        },
        "6ba5cbe3972c4425b498e4f1d0c97bce": {
          "model_module": "@jupyter-widgets/controls",
          "model_name": "FloatProgressModel",
          "state": {
            "_view_name": "ProgressView",
            "style": "IPY_MODEL_87e44b45f1d948aa8a26addf15de5679",
            "_dom_classes": [],
            "description": "Downloading: 100%",
            "_model_name": "FloatProgressModel",
            "bar_style": "success",
            "max": 629,
            "_view_module": "@jupyter-widgets/controls",
            "_model_module_version": "1.5.0",
            "value": 629,
            "_view_count": null,
            "_view_module_version": "1.5.0",
            "orientation": "horizontal",
            "min": 0,
            "description_tooltip": null,
            "_model_module": "@jupyter-widgets/controls",
            "layout": "IPY_MODEL_83c9ecde06454afdb4ea89313d30a7be"
          }
        },
        "3736117090104dfaa6944a8aa1c46d91": {
          "model_module": "@jupyter-widgets/controls",
          "model_name": "HTMLModel",
          "state": {
            "_view_name": "HTMLView",
            "style": "IPY_MODEL_d638a1d1ec36485b9e848336eb973ae5",
            "_dom_classes": [],
            "description": "",
            "_model_name": "HTMLModel",
            "placeholder": "​",
            "_view_module": "@jupyter-widgets/controls",
            "_model_module_version": "1.5.0",
            "value": " 629/629 [00:00&lt;00:00, 938B/s]",
            "_view_count": null,
            "_view_module_version": "1.5.0",
            "description_tooltip": null,
            "_model_module": "@jupyter-widgets/controls",
            "layout": "IPY_MODEL_81305c927ddc4d2f82cdbee8df758c0b"
          }
        },
        "87e44b45f1d948aa8a26addf15de5679": {
          "model_module": "@jupyter-widgets/controls",
          "model_name": "ProgressStyleModel",
          "state": {
            "_view_name": "StyleView",
            "_model_name": "ProgressStyleModel",
            "description_width": "initial",
            "_view_module": "@jupyter-widgets/base",
            "_model_module_version": "1.5.0",
            "_view_count": null,
            "_view_module_version": "1.2.0",
            "bar_color": null,
            "_model_module": "@jupyter-widgets/controls"
          }
        },
        "83c9ecde06454afdb4ea89313d30a7be": {
          "model_module": "@jupyter-widgets/base",
          "model_name": "LayoutModel",
          "state": {
            "_view_name": "LayoutView",
            "grid_template_rows": null,
            "right": null,
            "justify_content": null,
            "_view_module": "@jupyter-widgets/base",
            "overflow": null,
            "_model_module_version": "1.2.0",
            "_view_count": null,
            "flex_flow": null,
            "width": null,
            "min_width": null,
            "border": null,
            "align_items": null,
            "bottom": null,
            "_model_module": "@jupyter-widgets/base",
            "top": null,
            "grid_column": null,
            "overflow_y": null,
            "overflow_x": null,
            "grid_auto_flow": null,
            "grid_area": null,
            "grid_template_columns": null,
            "flex": null,
            "_model_name": "LayoutModel",
            "justify_items": null,
            "grid_row": null,
            "max_height": null,
            "align_content": null,
            "visibility": null,
            "align_self": null,
            "height": null,
            "min_height": null,
            "padding": null,
            "grid_auto_rows": null,
            "grid_gap": null,
            "max_width": null,
            "order": null,
            "_view_module_version": "1.2.0",
            "grid_template_areas": null,
            "object_position": null,
            "object_fit": null,
            "grid_auto_columns": null,
            "margin": null,
            "display": null,
            "left": null
          }
        },
        "d638a1d1ec36485b9e848336eb973ae5": {
          "model_module": "@jupyter-widgets/controls",
          "model_name": "DescriptionStyleModel",
          "state": {
            "_view_name": "StyleView",
            "_model_name": "DescriptionStyleModel",
            "description_width": "",
            "_view_module": "@jupyter-widgets/base",
            "_model_module_version": "1.5.0",
            "_view_count": null,
            "_view_module_version": "1.2.0",
            "_model_module": "@jupyter-widgets/controls"
          }
        },
        "81305c927ddc4d2f82cdbee8df758c0b": {
          "model_module": "@jupyter-widgets/base",
          "model_name": "LayoutModel",
          "state": {
            "_view_name": "LayoutView",
            "grid_template_rows": null,
            "right": null,
            "justify_content": null,
            "_view_module": "@jupyter-widgets/base",
            "overflow": null,
            "_model_module_version": "1.2.0",
            "_view_count": null,
            "flex_flow": null,
            "width": null,
            "min_width": null,
            "border": null,
            "align_items": null,
            "bottom": null,
            "_model_module": "@jupyter-widgets/base",
            "top": null,
            "grid_column": null,
            "overflow_y": null,
            "overflow_x": null,
            "grid_auto_flow": null,
            "grid_area": null,
            "grid_template_columns": null,
            "flex": null,
            "_model_name": "LayoutModel",
            "justify_items": null,
            "grid_row": null,
            "max_height": null,
            "align_content": null,
            "visibility": null,
            "align_self": null,
            "height": null,
            "min_height": null,
            "padding": null,
            "grid_auto_rows": null,
            "grid_gap": null,
            "max_width": null,
            "order": null,
            "_view_module_version": "1.2.0",
            "grid_template_areas": null,
            "object_position": null,
            "object_fit": null,
            "grid_auto_columns": null,
            "margin": null,
            "display": null,
            "left": null
          }
        },
        "25031997c4144257a528546c6b151214": {
          "model_module": "@jupyter-widgets/controls",
          "model_name": "HBoxModel",
          "state": {
            "_view_name": "HBoxView",
            "_dom_classes": [],
            "_model_name": "HBoxModel",
            "_view_module": "@jupyter-widgets/controls",
            "_model_module_version": "1.5.0",
            "_view_count": null,
            "_view_module_version": "1.5.0",
            "box_style": "",
            "layout": "IPY_MODEL_1385ce7a354b42f5a3f3de665f442a35",
            "_model_module": "@jupyter-widgets/controls",
            "children": [
              "IPY_MODEL_908a9359b23648b2babd2d4134bc5712",
              "IPY_MODEL_99f34b750e0040f8808f46196f726bf4"
            ]
          }
        },
        "1385ce7a354b42f5a3f3de665f442a35": {
          "model_module": "@jupyter-widgets/base",
          "model_name": "LayoutModel",
          "state": {
            "_view_name": "LayoutView",
            "grid_template_rows": null,
            "right": null,
            "justify_content": null,
            "_view_module": "@jupyter-widgets/base",
            "overflow": null,
            "_model_module_version": "1.2.0",
            "_view_count": null,
            "flex_flow": null,
            "width": null,
            "min_width": null,
            "border": null,
            "align_items": null,
            "bottom": null,
            "_model_module": "@jupyter-widgets/base",
            "top": null,
            "grid_column": null,
            "overflow_y": null,
            "overflow_x": null,
            "grid_auto_flow": null,
            "grid_area": null,
            "grid_template_columns": null,
            "flex": null,
            "_model_name": "LayoutModel",
            "justify_items": null,
            "grid_row": null,
            "max_height": null,
            "align_content": null,
            "visibility": null,
            "align_self": null,
            "height": null,
            "min_height": null,
            "padding": null,
            "grid_auto_rows": null,
            "grid_gap": null,
            "max_width": null,
            "order": null,
            "_view_module_version": "1.2.0",
            "grid_template_areas": null,
            "object_position": null,
            "object_fit": null,
            "grid_auto_columns": null,
            "margin": null,
            "display": null,
            "left": null
          }
        },
        "908a9359b23648b2babd2d4134bc5712": {
          "model_module": "@jupyter-widgets/controls",
          "model_name": "FloatProgressModel",
          "state": {
            "_view_name": "ProgressView",
            "style": "IPY_MODEL_e342afeda4304bf9be81a6c17a4e74c6",
            "_dom_classes": [],
            "description": "Downloading: 100%",
            "_model_name": "FloatProgressModel",
            "bar_style": "success",
            "max": 267844284,
            "_view_module": "@jupyter-widgets/controls",
            "_model_module_version": "1.5.0",
            "value": 267844284,
            "_view_count": null,
            "_view_module_version": "1.5.0",
            "orientation": "horizontal",
            "min": 0,
            "description_tooltip": null,
            "_model_module": "@jupyter-widgets/controls",
            "layout": "IPY_MODEL_b8a1681f405643b1b5b489402dafc1ab"
          }
        },
        "99f34b750e0040f8808f46196f726bf4": {
          "model_module": "@jupyter-widgets/controls",
          "model_name": "HTMLModel",
          "state": {
            "_view_name": "HTMLView",
            "style": "IPY_MODEL_52837c6c9e53402884765ca5c0d10d19",
            "_dom_classes": [],
            "description": "",
            "_model_name": "HTMLModel",
            "placeholder": "​",
            "_view_module": "@jupyter-widgets/controls",
            "_model_module_version": "1.5.0",
            "value": " 268M/268M [00:07&lt;00:00, 37.1MB/s]",
            "_view_count": null,
            "_view_module_version": "1.5.0",
            "description_tooltip": null,
            "_model_module": "@jupyter-widgets/controls",
            "layout": "IPY_MODEL_34a44d131797490c902c239c6d2afbfe"
          }
        },
        "e342afeda4304bf9be81a6c17a4e74c6": {
          "model_module": "@jupyter-widgets/controls",
          "model_name": "ProgressStyleModel",
          "state": {
            "_view_name": "StyleView",
            "_model_name": "ProgressStyleModel",
            "description_width": "initial",
            "_view_module": "@jupyter-widgets/base",
            "_model_module_version": "1.5.0",
            "_view_count": null,
            "_view_module_version": "1.2.0",
            "bar_color": null,
            "_model_module": "@jupyter-widgets/controls"
          }
        },
        "b8a1681f405643b1b5b489402dafc1ab": {
          "model_module": "@jupyter-widgets/base",
          "model_name": "LayoutModel",
          "state": {
            "_view_name": "LayoutView",
            "grid_template_rows": null,
            "right": null,
            "justify_content": null,
            "_view_module": "@jupyter-widgets/base",
            "overflow": null,
            "_model_module_version": "1.2.0",
            "_view_count": null,
            "flex_flow": null,
            "width": null,
            "min_width": null,
            "border": null,
            "align_items": null,
            "bottom": null,
            "_model_module": "@jupyter-widgets/base",
            "top": null,
            "grid_column": null,
            "overflow_y": null,
            "overflow_x": null,
            "grid_auto_flow": null,
            "grid_area": null,
            "grid_template_columns": null,
            "flex": null,
            "_model_name": "LayoutModel",
            "justify_items": null,
            "grid_row": null,
            "max_height": null,
            "align_content": null,
            "visibility": null,
            "align_self": null,
            "height": null,
            "min_height": null,
            "padding": null,
            "grid_auto_rows": null,
            "grid_gap": null,
            "max_width": null,
            "order": null,
            "_view_module_version": "1.2.0",
            "grid_template_areas": null,
            "object_position": null,
            "object_fit": null,
            "grid_auto_columns": null,
            "margin": null,
            "display": null,
            "left": null
          }
        },
        "52837c6c9e53402884765ca5c0d10d19": {
          "model_module": "@jupyter-widgets/controls",
          "model_name": "DescriptionStyleModel",
          "state": {
            "_view_name": "StyleView",
            "_model_name": "DescriptionStyleModel",
            "description_width": "",
            "_view_module": "@jupyter-widgets/base",
            "_model_module_version": "1.5.0",
            "_view_count": null,
            "_view_module_version": "1.2.0",
            "_model_module": "@jupyter-widgets/controls"
          }
        },
        "34a44d131797490c902c239c6d2afbfe": {
          "model_module": "@jupyter-widgets/base",
          "model_name": "LayoutModel",
          "state": {
            "_view_name": "LayoutView",
            "grid_template_rows": null,
            "right": null,
            "justify_content": null,
            "_view_module": "@jupyter-widgets/base",
            "overflow": null,
            "_model_module_version": "1.2.0",
            "_view_count": null,
            "flex_flow": null,
            "width": null,
            "min_width": null,
            "border": null,
            "align_items": null,
            "bottom": null,
            "_model_module": "@jupyter-widgets/base",
            "top": null,
            "grid_column": null,
            "overflow_y": null,
            "overflow_x": null,
            "grid_auto_flow": null,
            "grid_area": null,
            "grid_template_columns": null,
            "flex": null,
            "_model_name": "LayoutModel",
            "justify_items": null,
            "grid_row": null,
            "max_height": null,
            "align_content": null,
            "visibility": null,
            "align_self": null,
            "height": null,
            "min_height": null,
            "padding": null,
            "grid_auto_rows": null,
            "grid_gap": null,
            "max_width": null,
            "order": null,
            "_view_module_version": "1.2.0",
            "grid_template_areas": null,
            "object_position": null,
            "object_fit": null,
            "grid_auto_columns": null,
            "margin": null,
            "display": null,
            "left": null
          }
        },
        "bbbcdbaca27548db83a741a1a00dcc4f": {
          "model_module": "@jupyter-widgets/controls",
          "model_name": "HBoxModel",
          "state": {
            "_view_name": "HBoxView",
            "_dom_classes": [],
            "_model_name": "HBoxModel",
            "_view_module": "@jupyter-widgets/controls",
            "_model_module_version": "1.5.0",
            "_view_count": null,
            "_view_module_version": "1.5.0",
            "box_style": "",
            "layout": "IPY_MODEL_07c84ba9169344c3a2b5a7d0b80ced46",
            "_model_module": "@jupyter-widgets/controls",
            "children": [
              "IPY_MODEL_06988788106f4e759cc1ee7ccdc2a545",
              "IPY_MODEL_1cda27e927e141ab844976fbfc1b72b5"
            ]
          }
        },
        "07c84ba9169344c3a2b5a7d0b80ced46": {
          "model_module": "@jupyter-widgets/base",
          "model_name": "LayoutModel",
          "state": {
            "_view_name": "LayoutView",
            "grid_template_rows": null,
            "right": null,
            "justify_content": null,
            "_view_module": "@jupyter-widgets/base",
            "overflow": null,
            "_model_module_version": "1.2.0",
            "_view_count": null,
            "flex_flow": null,
            "width": null,
            "min_width": null,
            "border": null,
            "align_items": null,
            "bottom": null,
            "_model_module": "@jupyter-widgets/base",
            "top": null,
            "grid_column": null,
            "overflow_y": null,
            "overflow_x": null,
            "grid_auto_flow": null,
            "grid_area": null,
            "grid_template_columns": null,
            "flex": null,
            "_model_name": "LayoutModel",
            "justify_items": null,
            "grid_row": null,
            "max_height": null,
            "align_content": null,
            "visibility": null,
            "align_self": null,
            "height": null,
            "min_height": null,
            "padding": null,
            "grid_auto_rows": null,
            "grid_gap": null,
            "max_width": null,
            "order": null,
            "_view_module_version": "1.2.0",
            "grid_template_areas": null,
            "object_position": null,
            "object_fit": null,
            "grid_auto_columns": null,
            "margin": null,
            "display": null,
            "left": null
          }
        },
        "06988788106f4e759cc1ee7ccdc2a545": {
          "model_module": "@jupyter-widgets/controls",
          "model_name": "FloatProgressModel",
          "state": {
            "_view_name": "ProgressView",
            "style": "IPY_MODEL_778f094d274c431aad6bfa254adf2410",
            "_dom_classes": [],
            "description": "Downloading: 100%",
            "_model_name": "FloatProgressModel",
            "bar_style": "success",
            "max": 231508,
            "_view_module": "@jupyter-widgets/controls",
            "_model_module_version": "1.5.0",
            "value": 231508,
            "_view_count": null,
            "_view_module_version": "1.5.0",
            "orientation": "horizontal",
            "min": 0,
            "description_tooltip": null,
            "_model_module": "@jupyter-widgets/controls",
            "layout": "IPY_MODEL_2e6e622351434a44bfcb94513434bcba"
          }
        },
        "1cda27e927e141ab844976fbfc1b72b5": {
          "model_module": "@jupyter-widgets/controls",
          "model_name": "HTMLModel",
          "state": {
            "_view_name": "HTMLView",
            "style": "IPY_MODEL_a3d43c8c8a9f4ace90836d0e56b96e40",
            "_dom_classes": [],
            "description": "",
            "_model_name": "HTMLModel",
            "placeholder": "​",
            "_view_module": "@jupyter-widgets/controls",
            "_model_module_version": "1.5.0",
            "value": " 232k/232k [00:01&lt;00:00, 219kB/s]",
            "_view_count": null,
            "_view_module_version": "1.5.0",
            "description_tooltip": null,
            "_model_module": "@jupyter-widgets/controls",
            "layout": "IPY_MODEL_4a4d445daeed48eca1f48a331e2174d5"
          }
        },
        "778f094d274c431aad6bfa254adf2410": {
          "model_module": "@jupyter-widgets/controls",
          "model_name": "ProgressStyleModel",
          "state": {
            "_view_name": "StyleView",
            "_model_name": "ProgressStyleModel",
            "description_width": "initial",
            "_view_module": "@jupyter-widgets/base",
            "_model_module_version": "1.5.0",
            "_view_count": null,
            "_view_module_version": "1.2.0",
            "bar_color": null,
            "_model_module": "@jupyter-widgets/controls"
          }
        },
        "2e6e622351434a44bfcb94513434bcba": {
          "model_module": "@jupyter-widgets/base",
          "model_name": "LayoutModel",
          "state": {
            "_view_name": "LayoutView",
            "grid_template_rows": null,
            "right": null,
            "justify_content": null,
            "_view_module": "@jupyter-widgets/base",
            "overflow": null,
            "_model_module_version": "1.2.0",
            "_view_count": null,
            "flex_flow": null,
            "width": null,
            "min_width": null,
            "border": null,
            "align_items": null,
            "bottom": null,
            "_model_module": "@jupyter-widgets/base",
            "top": null,
            "grid_column": null,
            "overflow_y": null,
            "overflow_x": null,
            "grid_auto_flow": null,
            "grid_area": null,
            "grid_template_columns": null,
            "flex": null,
            "_model_name": "LayoutModel",
            "justify_items": null,
            "grid_row": null,
            "max_height": null,
            "align_content": null,
            "visibility": null,
            "align_self": null,
            "height": null,
            "min_height": null,
            "padding": null,
            "grid_auto_rows": null,
            "grid_gap": null,
            "max_width": null,
            "order": null,
            "_view_module_version": "1.2.0",
            "grid_template_areas": null,
            "object_position": null,
            "object_fit": null,
            "grid_auto_columns": null,
            "margin": null,
            "display": null,
            "left": null
          }
        },
        "a3d43c8c8a9f4ace90836d0e56b96e40": {
          "model_module": "@jupyter-widgets/controls",
          "model_name": "DescriptionStyleModel",
          "state": {
            "_view_name": "StyleView",
            "_model_name": "DescriptionStyleModel",
            "description_width": "",
            "_view_module": "@jupyter-widgets/base",
            "_model_module_version": "1.5.0",
            "_view_count": null,
            "_view_module_version": "1.2.0",
            "_model_module": "@jupyter-widgets/controls"
          }
        },
        "4a4d445daeed48eca1f48a331e2174d5": {
          "model_module": "@jupyter-widgets/base",
          "model_name": "LayoutModel",
          "state": {
            "_view_name": "LayoutView",
            "grid_template_rows": null,
            "right": null,
            "justify_content": null,
            "_view_module": "@jupyter-widgets/base",
            "overflow": null,
            "_model_module_version": "1.2.0",
            "_view_count": null,
            "flex_flow": null,
            "width": null,
            "min_width": null,
            "border": null,
            "align_items": null,
            "bottom": null,
            "_model_module": "@jupyter-widgets/base",
            "top": null,
            "grid_column": null,
            "overflow_y": null,
            "overflow_x": null,
            "grid_auto_flow": null,
            "grid_area": null,
            "grid_template_columns": null,
            "flex": null,
            "_model_name": "LayoutModel",
            "justify_items": null,
            "grid_row": null,
            "max_height": null,
            "align_content": null,
            "visibility": null,
            "align_self": null,
            "height": null,
            "min_height": null,
            "padding": null,
            "grid_auto_rows": null,
            "grid_gap": null,
            "max_width": null,
            "order": null,
            "_view_module_version": "1.2.0",
            "grid_template_areas": null,
            "object_position": null,
            "object_fit": null,
            "grid_auto_columns": null,
            "margin": null,
            "display": null,
            "left": null
          }
        }
      }
    }
  },
  "cells": [
    {
      "cell_type": "markdown",
      "metadata": {
        "id": "zDSJ96FkjbkT"
      },
      "source": [
        "Import useful Libraries"
      ]
    },
    {
      "cell_type": "code",
      "metadata": {
        "colab": {
          "base_uri": "https://localhost:8080/"
        },
        "id": "v501zVaYTmUk",
        "outputId": "74345890-e31d-441a-e337-bd0955fffa71"
      },
      "source": [
        "pip install pyforest"
      ],
      "execution_count": 5,
      "outputs": [
        {
          "output_type": "stream",
          "text": [
            "Collecting pyforest\n",
            "  Downloading https://files.pythonhosted.org/packages/8f/85/77a9d2d9ff240822039f3dfd7a3b374d0621a0df5feb5d270a2151f6bb6d/pyforest-1.0.3.tar.gz\n",
            "Building wheels for collected packages: pyforest\n",
            "  Building wheel for pyforest (setup.py) ... \u001b[?25l\u001b[?25hdone\n",
            "  Created wheel for pyforest: filename=pyforest-1.0.3-py2.py3-none-any.whl size=13716 sha256=33317f31006ced5b8bb4e55679e63f187e03607a869ae66be81a1cde11063de8\n",
            "  Stored in directory: /root/.cache/pip/wheels/af/0b/39/340a7f15fc8d4ff5ab50847b28789afea04452a9d51b9721b5\n",
            "Successfully built pyforest\n",
            "Installing collected packages: pyforest\n",
            "Successfully installed pyforest-1.0.3\n"
          ],
          "name": "stdout"
        }
      ]
    },
    {
      "cell_type": "code",
      "metadata": {
        "id": "Fr80xXess7wN",
        "colab": {
          "base_uri": "https://localhost:8080/"
        },
        "outputId": "d3efaded-c798-4d79-aec9-4f9bad3418d2"
      },
      "source": [
        "from transformers import pipeline\n",
        "import pyforest\n",
        "import string\n",
        "from geopy.distance import geodesic\n",
        "from statistics import mean\n",
        "from sklearn.linear_model import LinearRegression,Ridge,Lasso\n",
        "from sklearn.model_selection import GridSearchCV\n",
        "from sklearn.model_selection import RandomizedSearchCV\n",
        "from sklearn.model_selection import cross_val_score\n",
        "from sklearn.metrics import mean_squared_error\n",
        "from sklearn import metrics\n",
        "from sklearn.ensemble import RandomForestRegressor\n",
        "from sklearn.tree import DecisionTreeRegressor\n",
        "from xgboost import XGBRegressor\n",
        "import xgboost as xgb\n",
        "from sklearn.externals import joblib \n",
        "from sklearn.model_selection import StratifiedKFold\n",
        "from sklearn.model_selection import cross_val_score"
      ],
      "execution_count": 6,
      "outputs": [
        {
          "output_type": "stream",
          "text": [
            "/usr/local/lib/python3.6/dist-packages/sklearn/externals/joblib/__init__.py:15: FutureWarning: sklearn.externals.joblib is deprecated in 0.21 and will be removed in 0.23. Please import this functionality directly from joblib, which can be installed with: pip install joblib. If this warning is raised when loading pickled models, you may need to re-serialize those models with scikit-learn 0.21+.\n",
            "  warnings.warn(msg, category=FutureWarning)\n"
          ],
          "name": "stderr"
        }
      ]
    },
    {
      "cell_type": "markdown",
      "metadata": {
        "id": "978-rrKYjiuX"
      },
      "source": [
        "Read data from CSV file through link."
      ]
    },
    {
      "cell_type": "code",
      "metadata": {
        "colab": {
          "base_uri": "https://localhost:8080/",
          "height": 17
        },
        "id": "aweA34wis7wW",
        "outputId": "b10557d6-8766-4881-871f-59cea6e34dd6"
      },
      "source": [
        "pr_data  = pd.read_csv(\"https://raw.githubusercontent.com/dphi-official/Datasets/master/product_ratings/train_set_label.csv\" )\n",
        "test_data = pd.read_csv('https://raw.githubusercontent.com/dphi-official/Datasets/master/product_ratings/test_set_label.csv')"
      ],
      "execution_count": 7,
      "outputs": [
        {
          "output_type": "display_data",
          "data": {
            "application/javascript": [
              "\n",
              "        if (window._pyforest_update_imports_cell) { window._pyforest_update_imports_cell('import pandas as pd'); }\n",
              "    "
            ],
            "text/plain": [
              "<IPython.core.display.Javascript object>"
            ]
          },
          "metadata": {
            "tags": []
          }
        },
        {
          "output_type": "display_data",
          "data": {
            "application/javascript": [
              "\n",
              "        if (window._pyforest_update_imports_cell) { window._pyforest_update_imports_cell('import pandas as pd'); }\n",
              "    "
            ],
            "text/plain": [
              "<IPython.core.display.Javascript object>"
            ]
          },
          "metadata": {
            "tags": []
          }
        }
      ]
    },
    {
      "cell_type": "markdown",
      "metadata": {
        "id": "w_dQe9k3jq-K"
      },
      "source": [
        "Check for Train Data Information"
      ]
    },
    {
      "cell_type": "code",
      "metadata": {
        "colab": {
          "base_uri": "https://localhost:8080/"
        },
        "id": "Fc_Y5YJMs7wY",
        "outputId": "15eac9b9-1e9b-4718-b1a2-4bead93515ec"
      },
      "source": [
        "pr_data.info()"
      ],
      "execution_count": 8,
      "outputs": [
        {
          "output_type": "stream",
          "text": [
            "<class 'pandas.core.frame.DataFrame'>\n",
            "RangeIndex: 7486 entries, 0 to 7485\n",
            "Data columns (total 17 columns):\n",
            " #   Column                                       Non-Null Count  Dtype  \n",
            "---  ------                                       --------------  -----  \n",
            " 0   uniq_id                                      7486 non-null   object \n",
            " 1   product_name                                 7486 non-null   object \n",
            " 2   manufacturer                                 7481 non-null   object \n",
            " 3   price                                        6417 non-null   object \n",
            " 4   number_available_in_stock                    5587 non-null   object \n",
            " 5   number_of_reviews                            7486 non-null   object \n",
            " 6   number_of_answered_questions                 6909 non-null   float64\n",
            " 7   amazon_category_and_sub_category             7000 non-null   object \n",
            " 8   customers_who_bought_this_item_also_bought   6665 non-null   object \n",
            " 9   description                                  7013 non-null   object \n",
            " 10  product_information                          7441 non-null   object \n",
            " 11  product_description                          7013 non-null   object \n",
            " 12  items_customers_buy_after_viewing_this_item  5179 non-null   object \n",
            " 13  customer_questions_and_answers               669 non-null    object \n",
            " 14  customer_reviews                             7483 non-null   object \n",
            " 15  sellers                                      5172 non-null   object \n",
            " 16  average_review_rating                        7486 non-null   float64\n",
            "dtypes: float64(2), object(15)\n",
            "memory usage: 994.4+ KB\n"
          ],
          "name": "stdout"
        }
      ]
    },
    {
      "cell_type": "markdown",
      "metadata": {
        "id": "167jRQvwjvBs"
      },
      "source": [
        "Check for Test Data Information"
      ]
    },
    {
      "cell_type": "code",
      "metadata": {
        "colab": {
          "base_uri": "https://localhost:8080/"
        },
        "id": "YybKYjouQ-Gs",
        "outputId": "691ec2f9-9aba-42d4-fbac-5adcb3a1cc3a"
      },
      "source": [
        "test_data.info()"
      ],
      "execution_count": 9,
      "outputs": [
        {
          "output_type": "stream",
          "text": [
            "<class 'pandas.core.frame.DataFrame'>\n",
            "RangeIndex: 2496 entries, 0 to 2495\n",
            "Data columns (total 16 columns):\n",
            " #   Column                                       Non-Null Count  Dtype  \n",
            "---  ------                                       --------------  -----  \n",
            " 0   uniq_id                                      2496 non-null   object \n",
            " 1   product_name                                 2496 non-null   object \n",
            " 2   manufacturer                                 2494 non-null   object \n",
            " 3   price                                        2133 non-null   object \n",
            " 4   number_available_in_stock                    1898 non-null   object \n",
            " 5   number_of_reviews                            2496 non-null   int64  \n",
            " 6   number_of_answered_questions                 2309 non-null   float64\n",
            " 7   amazon_category_and_sub_category             2298 non-null   object \n",
            " 8   customers_who_bought_this_item_also_bought   2255 non-null   object \n",
            " 9   description                                  2322 non-null   object \n",
            " 10  product_information                          2483 non-null   object \n",
            " 11  product_description                          2322 non-null   object \n",
            " 12  items_customers_buy_after_viewing_this_item  1745 non-null   object \n",
            " 13  customer_questions_and_answers               244 non-null    object \n",
            " 14  customer_reviews                             2496 non-null   object \n",
            " 15  sellers                                      1730 non-null   object \n",
            "dtypes: float64(1), int64(1), object(14)\n",
            "memory usage: 312.1+ KB\n"
          ],
          "name": "stdout"
        }
      ]
    },
    {
      "cell_type": "markdown",
      "metadata": {
        "id": "lBah3IVCj1K3"
      },
      "source": [
        "Check whether Data Types are appropriate or not."
      ]
    },
    {
      "cell_type": "code",
      "metadata": {
        "colab": {
          "base_uri": "https://localhost:8080/"
        },
        "id": "vXvQzzMps7wZ",
        "outputId": "9d60806b-523b-4f82-e3b0-0705284fb746"
      },
      "source": [
        "pr_data.dtypes"
      ],
      "execution_count": 10,
      "outputs": [
        {
          "output_type": "execute_result",
          "data": {
            "text/plain": [
              "uniq_id                                         object\n",
              "product_name                                    object\n",
              "manufacturer                                    object\n",
              "price                                           object\n",
              "number_available_in_stock                       object\n",
              "number_of_reviews                               object\n",
              "number_of_answered_questions                   float64\n",
              "amazon_category_and_sub_category                object\n",
              "customers_who_bought_this_item_also_bought      object\n",
              "description                                     object\n",
              "product_information                             object\n",
              "product_description                             object\n",
              "items_customers_buy_after_viewing_this_item     object\n",
              "customer_questions_and_answers                  object\n",
              "customer_reviews                                object\n",
              "sellers                                         object\n",
              "average_review_rating                          float64\n",
              "dtype: object"
            ]
          },
          "metadata": {
            "tags": []
          },
          "execution_count": 10
        }
      ]
    },
    {
      "cell_type": "code",
      "metadata": {
        "colab": {
          "base_uri": "https://localhost:8080/"
        },
        "id": "NLzMAiBSRBVE",
        "outputId": "4de8a113-e808-4a41-9a06-93001ba81e0c"
      },
      "source": [
        "test_data.dtypes"
      ],
      "execution_count": 11,
      "outputs": [
        {
          "output_type": "execute_result",
          "data": {
            "text/plain": [
              "uniq_id                                         object\n",
              "product_name                                    object\n",
              "manufacturer                                    object\n",
              "price                                           object\n",
              "number_available_in_stock                       object\n",
              "number_of_reviews                                int64\n",
              "number_of_answered_questions                   float64\n",
              "amazon_category_and_sub_category                object\n",
              "customers_who_bought_this_item_also_bought      object\n",
              "description                                     object\n",
              "product_information                             object\n",
              "product_description                             object\n",
              "items_customers_buy_after_viewing_this_item     object\n",
              "customer_questions_and_answers                  object\n",
              "customer_reviews                                object\n",
              "sellers                                         object\n",
              "dtype: object"
            ]
          },
          "metadata": {
            "tags": []
          },
          "execution_count": 11
        }
      ]
    },
    {
      "cell_type": "markdown",
      "metadata": {
        "id": "x5G2GixHkA3u"
      },
      "source": [
        "Process of removing '£' symbol from price colum of the train & test data."
      ]
    },
    {
      "cell_type": "code",
      "metadata": {
        "id": "_P9L-ZS_s7wZ"
      },
      "source": [
        "pr_data['price']=pr_data.price.str.replace('£','')\n",
        "test_data['price']=test_data.price.str.replace('£','')"
      ],
      "execution_count": 12,
      "outputs": []
    },
    {
      "cell_type": "markdown",
      "metadata": {
        "id": "vGvhs-UokcRB"
      },
      "source": [
        "In number_available_in_stock I found that it contains data in the form of 3 used or 10 new. Here we have to split numeric value and New/Used information."
      ]
    },
    {
      "cell_type": "code",
      "metadata": {
        "id": "uLTJALCas7wa"
      },
      "source": [
        "temp=pr_data.number_available_in_stock.str.split(expand=True,).rename(columns={0:'available',1:'new_used'},errors=\"raise\")\n",
        "temp_1=test_data.number_available_in_stock.str.split(expand=True,).rename(columns={0:'available',1:'new_used'},errors=\"raise\")"
      ],
      "execution_count": 13,
      "outputs": []
    },
    {
      "cell_type": "code",
      "metadata": {
        "id": "SyWx-RC0s7wa",
        "scrolled": true
      },
      "source": [
        "pr_data=pr_data.join(temp)\n",
        "test_data=test_data.join(temp_1)"
      ],
      "execution_count": 14,
      "outputs": []
    },
    {
      "cell_type": "markdown",
      "metadata": {
        "id": "zJ1s9Q6lk8hQ"
      },
      "source": [
        "Drop irrelevant data columns."
      ]
    },
    {
      "cell_type": "code",
      "metadata": {
        "id": "1MWLOk7as7wa"
      },
      "source": [
        "pr_data=pr_data.drop(['number_available_in_stock','product_description','uniq_id'],axis=1)\n",
        "test_data=test_data.drop(['number_available_in_stock','product_description','uniq_id'],axis=1)"
      ],
      "execution_count": 15,
      "outputs": []
    },
    {
      "cell_type": "markdown",
      "metadata": {
        "id": "maamRmx6lL5p"
      },
      "source": [
        "Convert to appropriate data type."
      ]
    },
    {
      "cell_type": "code",
      "metadata": {
        "colab": {
          "base_uri": "https://localhost:8080/",
          "height": 17
        },
        "id": "Dysh7nZAs7wb",
        "outputId": "b0168a13-a7b5-4d25-b27d-5f1300f755d8"
      },
      "source": [
        "pr_data['price'] = pd.to_numeric(pr_data.price, errors='coerce')\n",
        "pr_data['number_of_reviews']=pd.to_numeric(pr_data.number_of_reviews,errors='coerce')\n",
        "pr_data['available']=pd.to_numeric(pr_data.available,errors='coerce')\n",
        "test_data['price'] = pd.to_numeric(test_data.price, errors='coerce')\n",
        "test_data['number_of_reviews']=pd.to_numeric(test_data.number_of_reviews,errors='coerce')\n",
        "test_data['available']=pd.to_numeric(test_data.available,errors='coerce')"
      ],
      "execution_count": 16,
      "outputs": [
        {
          "output_type": "display_data",
          "data": {
            "application/javascript": [
              "\n",
              "        if (window._pyforest_update_imports_cell) { window._pyforest_update_imports_cell('import pandas as pd'); }\n",
              "    "
            ],
            "text/plain": [
              "<IPython.core.display.Javascript object>"
            ]
          },
          "metadata": {
            "tags": []
          }
        },
        {
          "output_type": "display_data",
          "data": {
            "application/javascript": [
              "\n",
              "        if (window._pyforest_update_imports_cell) { window._pyforest_update_imports_cell('import pandas as pd'); }\n",
              "    "
            ],
            "text/plain": [
              "<IPython.core.display.Javascript object>"
            ]
          },
          "metadata": {
            "tags": []
          }
        },
        {
          "output_type": "display_data",
          "data": {
            "application/javascript": [
              "\n",
              "        if (window._pyforest_update_imports_cell) { window._pyforest_update_imports_cell('import pandas as pd'); }\n",
              "    "
            ],
            "text/plain": [
              "<IPython.core.display.Javascript object>"
            ]
          },
          "metadata": {
            "tags": []
          }
        },
        {
          "output_type": "display_data",
          "data": {
            "application/javascript": [
              "\n",
              "        if (window._pyforest_update_imports_cell) { window._pyforest_update_imports_cell('import pandas as pd'); }\n",
              "    "
            ],
            "text/plain": [
              "<IPython.core.display.Javascript object>"
            ]
          },
          "metadata": {
            "tags": []
          }
        },
        {
          "output_type": "display_data",
          "data": {
            "application/javascript": [
              "\n",
              "        if (window._pyforest_update_imports_cell) { window._pyforest_update_imports_cell('import pandas as pd'); }\n",
              "    "
            ],
            "text/plain": [
              "<IPython.core.display.Javascript object>"
            ]
          },
          "metadata": {
            "tags": []
          }
        },
        {
          "output_type": "display_data",
          "data": {
            "application/javascript": [
              "\n",
              "        if (window._pyforest_update_imports_cell) { window._pyforest_update_imports_cell('import pandas as pd'); }\n",
              "    "
            ],
            "text/plain": [
              "<IPython.core.display.Javascript object>"
            ]
          },
          "metadata": {
            "tags": []
          }
        }
      ]
    },
    {
      "cell_type": "markdown",
      "metadata": {
        "id": "1GqrV50VvEAW"
      },
      "source": [
        "### Missing Value Analysis"
      ]
    },
    {
      "cell_type": "code",
      "metadata": {
        "colab": {
          "base_uri": "https://localhost:8080/"
        },
        "id": "t6T2wIsMs7wb",
        "outputId": "7f0670a1-23e5-41d3-8e0b-b542a21433db"
      },
      "source": [
        "pr_data.isnull().sum()"
      ],
      "execution_count": 17,
      "outputs": [
        {
          "output_type": "execute_result",
          "data": {
            "text/plain": [
              "product_name                                      0\n",
              "manufacturer                                      5\n",
              "price                                          1083\n",
              "number_of_reviews                                 2\n",
              "number_of_answered_questions                    577\n",
              "amazon_category_and_sub_category                486\n",
              "customers_who_bought_this_item_also_bought      821\n",
              "description                                     473\n",
              "product_information                              45\n",
              "items_customers_buy_after_viewing_this_item    2307\n",
              "customer_questions_and_answers                 6817\n",
              "customer_reviews                                  3\n",
              "sellers                                        2314\n",
              "average_review_rating                             0\n",
              "available                                      1899\n",
              "new_used                                       1899\n",
              "dtype: int64"
            ]
          },
          "metadata": {
            "tags": []
          },
          "execution_count": 17
        }
      ]
    },
    {
      "cell_type": "code",
      "metadata": {
        "colab": {
          "base_uri": "https://localhost:8080/"
        },
        "id": "hQsJU9cAR73B",
        "outputId": "639cdfae-fca8-4a28-be3a-419cb20e9b29"
      },
      "source": [
        "test_data.isnull().sum()"
      ],
      "execution_count": 18,
      "outputs": [
        {
          "output_type": "execute_result",
          "data": {
            "text/plain": [
              "product_name                                      0\n",
              "manufacturer                                      2\n",
              "price                                           368\n",
              "number_of_reviews                                 0\n",
              "number_of_answered_questions                    187\n",
              "amazon_category_and_sub_category                198\n",
              "customers_who_bought_this_item_also_bought      241\n",
              "description                                     174\n",
              "product_information                              13\n",
              "items_customers_buy_after_viewing_this_item     751\n",
              "customer_questions_and_answers                 2252\n",
              "customer_reviews                                  0\n",
              "sellers                                         766\n",
              "available                                       598\n",
              "new_used                                        598\n",
              "dtype: int64"
            ]
          },
          "metadata": {
            "tags": []
          },
          "execution_count": 18
        }
      ]
    },
    {
      "cell_type": "markdown",
      "metadata": {
        "id": "eiP7xSZRvLYt"
      },
      "source": [
        "Missing Value Percentage"
      ]
    },
    {
      "cell_type": "code",
      "metadata": {
        "colab": {
          "base_uri": "https://localhost:8080/",
          "height": 17
        },
        "id": "9SXTT9y-s7wc",
        "outputId": "22bd5579-be39-4f72-8fac-eb97812a6198"
      },
      "source": [
        "missing_value = pd.DataFrame(pr_data.isnull().sum())\n",
        "missing_value = missing_value.reset_index()\n",
        "missing_value = missing_value.rename(columns={'index':'variables',0:'percentage_missing_values'})\n",
        "missing_value['percentage_missing_values'] = missing_value['percentage_missing_values']/len(pr_data)*100"
      ],
      "execution_count": 19,
      "outputs": [
        {
          "output_type": "display_data",
          "data": {
            "application/javascript": [
              "\n",
              "        if (window._pyforest_update_imports_cell) { window._pyforest_update_imports_cell('import pandas as pd'); }\n",
              "    "
            ],
            "text/plain": [
              "<IPython.core.display.Javascript object>"
            ]
          },
          "metadata": {
            "tags": []
          }
        }
      ]
    },
    {
      "cell_type": "code",
      "metadata": {
        "colab": {
          "base_uri": "https://localhost:8080/",
          "height": 545
        },
        "id": "XPpxCiFVs7wc",
        "outputId": "48d147d1-b843-4d04-bd7b-5be824518c91"
      },
      "source": [
        "missing_value"
      ],
      "execution_count": 20,
      "outputs": [
        {
          "output_type": "execute_result",
          "data": {
            "text/html": [
              "<div>\n",
              "<style scoped>\n",
              "    .dataframe tbody tr th:only-of-type {\n",
              "        vertical-align: middle;\n",
              "    }\n",
              "\n",
              "    .dataframe tbody tr th {\n",
              "        vertical-align: top;\n",
              "    }\n",
              "\n",
              "    .dataframe thead th {\n",
              "        text-align: right;\n",
              "    }\n",
              "</style>\n",
              "<table border=\"1\" class=\"dataframe\">\n",
              "  <thead>\n",
              "    <tr style=\"text-align: right;\">\n",
              "      <th></th>\n",
              "      <th>variables</th>\n",
              "      <th>percentage_missing_values</th>\n",
              "    </tr>\n",
              "  </thead>\n",
              "  <tbody>\n",
              "    <tr>\n",
              "      <th>0</th>\n",
              "      <td>product_name</td>\n",
              "      <td>0.000000</td>\n",
              "    </tr>\n",
              "    <tr>\n",
              "      <th>1</th>\n",
              "      <td>manufacturer</td>\n",
              "      <td>0.066791</td>\n",
              "    </tr>\n",
              "    <tr>\n",
              "      <th>2</th>\n",
              "      <td>price</td>\n",
              "      <td>14.467005</td>\n",
              "    </tr>\n",
              "    <tr>\n",
              "      <th>3</th>\n",
              "      <td>number_of_reviews</td>\n",
              "      <td>0.026717</td>\n",
              "    </tr>\n",
              "    <tr>\n",
              "      <th>4</th>\n",
              "      <td>number_of_answered_questions</td>\n",
              "      <td>7.707721</td>\n",
              "    </tr>\n",
              "    <tr>\n",
              "      <th>5</th>\n",
              "      <td>amazon_category_and_sub_category</td>\n",
              "      <td>6.492119</td>\n",
              "    </tr>\n",
              "    <tr>\n",
              "      <th>6</th>\n",
              "      <td>customers_who_bought_this_item_also_bought</td>\n",
              "      <td>10.967139</td>\n",
              "    </tr>\n",
              "    <tr>\n",
              "      <th>7</th>\n",
              "      <td>description</td>\n",
              "      <td>6.318461</td>\n",
              "    </tr>\n",
              "    <tr>\n",
              "      <th>8</th>\n",
              "      <td>product_information</td>\n",
              "      <td>0.601122</td>\n",
              "    </tr>\n",
              "    <tr>\n",
              "      <th>9</th>\n",
              "      <td>items_customers_buy_after_viewing_this_item</td>\n",
              "      <td>30.817526</td>\n",
              "    </tr>\n",
              "    <tr>\n",
              "      <th>10</th>\n",
              "      <td>customer_questions_and_answers</td>\n",
              "      <td>91.063318</td>\n",
              "    </tr>\n",
              "    <tr>\n",
              "      <th>11</th>\n",
              "      <td>customer_reviews</td>\n",
              "      <td>0.040075</td>\n",
              "    </tr>\n",
              "    <tr>\n",
              "      <th>12</th>\n",
              "      <td>sellers</td>\n",
              "      <td>30.911034</td>\n",
              "    </tr>\n",
              "    <tr>\n",
              "      <th>13</th>\n",
              "      <td>average_review_rating</td>\n",
              "      <td>0.000000</td>\n",
              "    </tr>\n",
              "    <tr>\n",
              "      <th>14</th>\n",
              "      <td>available</td>\n",
              "      <td>25.367352</td>\n",
              "    </tr>\n",
              "    <tr>\n",
              "      <th>15</th>\n",
              "      <td>new_used</td>\n",
              "      <td>25.367352</td>\n",
              "    </tr>\n",
              "  </tbody>\n",
              "</table>\n",
              "</div>"
            ],
            "text/plain": [
              "                                      variables  percentage_missing_values\n",
              "0                                  product_name                   0.000000\n",
              "1                                  manufacturer                   0.066791\n",
              "2                                         price                  14.467005\n",
              "3                             number_of_reviews                   0.026717\n",
              "4                  number_of_answered_questions                   7.707721\n",
              "5              amazon_category_and_sub_category                   6.492119\n",
              "6    customers_who_bought_this_item_also_bought                  10.967139\n",
              "7                                   description                   6.318461\n",
              "8                           product_information                   0.601122\n",
              "9   items_customers_buy_after_viewing_this_item                  30.817526\n",
              "10               customer_questions_and_answers                  91.063318\n",
              "11                             customer_reviews                   0.040075\n",
              "12                                      sellers                  30.911034\n",
              "13                        average_review_rating                   0.000000\n",
              "14                                    available                  25.367352\n",
              "15                                     new_used                  25.367352"
            ]
          },
          "metadata": {
            "tags": []
          },
          "execution_count": 20
        }
      ]
    },
    {
      "cell_type": "code",
      "metadata": {
        "colab": {
          "base_uri": "https://localhost:8080/",
          "height": 17
        },
        "id": "QnoGDCdwTjup",
        "outputId": "b14f8ab5-01e1-44ee-b843-f1e4c7c7ef27"
      },
      "source": [
        "missing_value_test = pd.DataFrame(test_data.isnull().sum())\n",
        "missing_value_test = missing_value_test.reset_index()\n",
        "missing_value_test = missing_value_test.rename(columns={'index':'variables',0:'percentage_missing_values'})\n",
        "missing_value_test['percentage_missing_values'] = missing_value_test['percentage_missing_values']/len(test_data)*100"
      ],
      "execution_count": 21,
      "outputs": [
        {
          "output_type": "display_data",
          "data": {
            "application/javascript": [
              "\n",
              "        if (window._pyforest_update_imports_cell) { window._pyforest_update_imports_cell('import pandas as pd'); }\n",
              "    "
            ],
            "text/plain": [
              "<IPython.core.display.Javascript object>"
            ]
          },
          "metadata": {
            "tags": []
          }
        }
      ]
    },
    {
      "cell_type": "code",
      "metadata": {
        "colab": {
          "base_uri": "https://localhost:8080/",
          "height": 514
        },
        "id": "y4cg3mKVTkWg",
        "outputId": "fd74be5f-0e99-40c1-ee7e-60ab14711a9b"
      },
      "source": [
        "missing_value_test"
      ],
      "execution_count": 22,
      "outputs": [
        {
          "output_type": "execute_result",
          "data": {
            "text/html": [
              "<div>\n",
              "<style scoped>\n",
              "    .dataframe tbody tr th:only-of-type {\n",
              "        vertical-align: middle;\n",
              "    }\n",
              "\n",
              "    .dataframe tbody tr th {\n",
              "        vertical-align: top;\n",
              "    }\n",
              "\n",
              "    .dataframe thead th {\n",
              "        text-align: right;\n",
              "    }\n",
              "</style>\n",
              "<table border=\"1\" class=\"dataframe\">\n",
              "  <thead>\n",
              "    <tr style=\"text-align: right;\">\n",
              "      <th></th>\n",
              "      <th>variables</th>\n",
              "      <th>percentage_missing_values</th>\n",
              "    </tr>\n",
              "  </thead>\n",
              "  <tbody>\n",
              "    <tr>\n",
              "      <th>0</th>\n",
              "      <td>product_name</td>\n",
              "      <td>0.000000</td>\n",
              "    </tr>\n",
              "    <tr>\n",
              "      <th>1</th>\n",
              "      <td>manufacturer</td>\n",
              "      <td>0.080128</td>\n",
              "    </tr>\n",
              "    <tr>\n",
              "      <th>2</th>\n",
              "      <td>price</td>\n",
              "      <td>14.743590</td>\n",
              "    </tr>\n",
              "    <tr>\n",
              "      <th>3</th>\n",
              "      <td>number_of_reviews</td>\n",
              "      <td>0.000000</td>\n",
              "    </tr>\n",
              "    <tr>\n",
              "      <th>4</th>\n",
              "      <td>number_of_answered_questions</td>\n",
              "      <td>7.491987</td>\n",
              "    </tr>\n",
              "    <tr>\n",
              "      <th>5</th>\n",
              "      <td>amazon_category_and_sub_category</td>\n",
              "      <td>7.932692</td>\n",
              "    </tr>\n",
              "    <tr>\n",
              "      <th>6</th>\n",
              "      <td>customers_who_bought_this_item_also_bought</td>\n",
              "      <td>9.655449</td>\n",
              "    </tr>\n",
              "    <tr>\n",
              "      <th>7</th>\n",
              "      <td>description</td>\n",
              "      <td>6.971154</td>\n",
              "    </tr>\n",
              "    <tr>\n",
              "      <th>8</th>\n",
              "      <td>product_information</td>\n",
              "      <td>0.520833</td>\n",
              "    </tr>\n",
              "    <tr>\n",
              "      <th>9</th>\n",
              "      <td>items_customers_buy_after_viewing_this_item</td>\n",
              "      <td>30.088141</td>\n",
              "    </tr>\n",
              "    <tr>\n",
              "      <th>10</th>\n",
              "      <td>customer_questions_and_answers</td>\n",
              "      <td>90.224359</td>\n",
              "    </tr>\n",
              "    <tr>\n",
              "      <th>11</th>\n",
              "      <td>customer_reviews</td>\n",
              "      <td>0.000000</td>\n",
              "    </tr>\n",
              "    <tr>\n",
              "      <th>12</th>\n",
              "      <td>sellers</td>\n",
              "      <td>30.689103</td>\n",
              "    </tr>\n",
              "    <tr>\n",
              "      <th>13</th>\n",
              "      <td>available</td>\n",
              "      <td>23.958333</td>\n",
              "    </tr>\n",
              "    <tr>\n",
              "      <th>14</th>\n",
              "      <td>new_used</td>\n",
              "      <td>23.958333</td>\n",
              "    </tr>\n",
              "  </tbody>\n",
              "</table>\n",
              "</div>"
            ],
            "text/plain": [
              "                                      variables  percentage_missing_values\n",
              "0                                  product_name                   0.000000\n",
              "1                                  manufacturer                   0.080128\n",
              "2                                         price                  14.743590\n",
              "3                             number_of_reviews                   0.000000\n",
              "4                  number_of_answered_questions                   7.491987\n",
              "5              amazon_category_and_sub_category                   7.932692\n",
              "6    customers_who_bought_this_item_also_bought                   9.655449\n",
              "7                                   description                   6.971154\n",
              "8                           product_information                   0.520833\n",
              "9   items_customers_buy_after_viewing_this_item                  30.088141\n",
              "10               customer_questions_and_answers                  90.224359\n",
              "11                             customer_reviews                   0.000000\n",
              "12                                      sellers                  30.689103\n",
              "13                                    available                  23.958333\n",
              "14                                     new_used                  23.958333"
            ]
          },
          "metadata": {
            "tags": []
          },
          "execution_count": 22
        }
      ]
    },
    {
      "cell_type": "markdown",
      "metadata": {
        "id": "Vdd1RN_6s7wc"
      },
      "source": [
        "Drop Colums with more than 30% Missing Values"
      ]
    },
    {
      "cell_type": "code",
      "metadata": {
        "id": "VkzIG-pgs7wd"
      },
      "source": [
        "pr_data=pr_data.drop(['items_customers_buy_after_viewing_this_item','customer_questions_and_answers','sellers'],axis=1)\n",
        "test_data=test_data.drop(['items_customers_buy_after_viewing_this_item','customer_questions_and_answers','sellers'],axis=1)"
      ],
      "execution_count": 23,
      "outputs": []
    },
    {
      "cell_type": "markdown",
      "metadata": {
        "id": "1xug6FLtvTiv"
      },
      "source": [
        "Replace Missing Values with appropriate values/assumption."
      ]
    },
    {
      "cell_type": "code",
      "metadata": {
        "id": "cF_fOMfTs7wd"
      },
      "source": [
        "pr_data['number_of_answered_questions'].fillna(0,inplace=True)\n",
        "pr_data['amazon_category_and_sub_category'].fillna('Not Applicable',inplace=True)\n",
        "pr_data['customers_who_bought_this_item_also_bought'].fillna('Not Applicable',inplace=True)\n",
        "pr_data['description'].fillna('Not Applicable',inplace=True)\n",
        "pr_data['available'].fillna(0,inplace=True)\n",
        "pr_data['new_used'].fillna('Not Applicable',inplace=True)\n",
        "\n",
        "test_data['number_of_answered_questions'].fillna(0,inplace=True)\n",
        "test_data['amazon_category_and_sub_category'].fillna('Not Applicable',inplace=True)\n",
        "test_data['customers_who_bought_this_item_also_bought'].fillna('Not Applicable',inplace=True)\n",
        "test_data['description'].fillna('Not Applicable',inplace=True)\n",
        "test_data['available'].fillna(0,inplace=True)\n",
        "test_data['new_used'].fillna('Not Applicable',inplace=True)"
      ],
      "execution_count": 24,
      "outputs": []
    },
    {
      "cell_type": "code",
      "metadata": {
        "colab": {
          "base_uri": "https://localhost:8080/"
        },
        "id": "Yu4z6gCgs7we",
        "scrolled": true,
        "outputId": "fb1f097d-bd48-41f9-c5c3-e8e0417610ca"
      },
      "source": [
        "pr_data.isnull().sum()"
      ],
      "execution_count": 25,
      "outputs": [
        {
          "output_type": "execute_result",
          "data": {
            "text/plain": [
              "product_name                                     0\n",
              "manufacturer                                     5\n",
              "price                                         1083\n",
              "number_of_reviews                                2\n",
              "number_of_answered_questions                     0\n",
              "amazon_category_and_sub_category                 0\n",
              "customers_who_bought_this_item_also_bought       0\n",
              "description                                      0\n",
              "product_information                             45\n",
              "customer_reviews                                 3\n",
              "average_review_rating                            0\n",
              "available                                        0\n",
              "new_used                                         0\n",
              "dtype: int64"
            ]
          },
          "metadata": {
            "tags": []
          },
          "execution_count": 25
        }
      ]
    },
    {
      "cell_type": "code",
      "metadata": {
        "colab": {
          "base_uri": "https://localhost:8080/"
        },
        "id": "UUhcm-1-UjWW",
        "outputId": "68d3895d-f0a4-4c2e-e585-8937ab635145"
      },
      "source": [
        "test_data.isnull().sum()"
      ],
      "execution_count": 26,
      "outputs": [
        {
          "output_type": "execute_result",
          "data": {
            "text/plain": [
              "product_name                                    0\n",
              "manufacturer                                    2\n",
              "price                                         368\n",
              "number_of_reviews                               0\n",
              "number_of_answered_questions                    0\n",
              "amazon_category_and_sub_category                0\n",
              "customers_who_bought_this_item_also_bought      0\n",
              "description                                     0\n",
              "product_information                            13\n",
              "customer_reviews                                0\n",
              "available                                       0\n",
              "new_used                                        0\n",
              "dtype: int64"
            ]
          },
          "metadata": {
            "tags": []
          },
          "execution_count": 26
        }
      ]
    },
    {
      "cell_type": "markdown",
      "metadata": {
        "id": "IoFDmxLpvnPD"
      },
      "source": [
        "Drop Missing values as impute of price of product using KNN or other value is not logical at all."
      ]
    },
    {
      "cell_type": "code",
      "metadata": {
        "id": "-KJWLhgOs7we",
        "scrolled": true
      },
      "source": [
        "pr_data = pr_data.dropna()\n",
        "test_data = test_data.dropna()"
      ],
      "execution_count": 27,
      "outputs": []
    },
    {
      "cell_type": "markdown",
      "metadata": {
        "id": "cV5t8W-ov2yC"
      },
      "source": [
        "Reset Index Numbering"
      ]
    },
    {
      "cell_type": "code",
      "metadata": {
        "id": "-UjR6lTOs7wg"
      },
      "source": [
        "pr_data.reset_index(drop=True, inplace=True)\n",
        "test_data.reset_index(drop=True, inplace=True)"
      ],
      "execution_count": 28,
      "outputs": []
    },
    {
      "cell_type": "code",
      "metadata": {
        "id": "y0ny2v3-PwA7"
      },
      "source": [
        "temp_df = pr_data.copy()\n",
        "test_temp_df=test_data.copy()"
      ],
      "execution_count": 29,
      "outputs": []
    },
    {
      "cell_type": "markdown",
      "metadata": {
        "id": "9POAzDh9v6W1"
      },
      "source": [
        "Function to extract Average rating and review statements from column 'customer_reviews'."
      ]
    },
    {
      "cell_type": "code",
      "metadata": {
        "id": "EbapoI5KQDV7"
      },
      "source": [
        "def get_avg_rating(x):\r\n",
        "  rating = []\r\n",
        "  pro_review = x.split('|')\r\n",
        "  for review in pro_review:\r\n",
        "    if review.count('//')==4: \r\n",
        "      rating.append(float(review.split(\"//\")[1]))\r\n",
        "  try:\r\n",
        "    return round(mean(rating),1)\r\n",
        "  except:\r\n",
        "    return 0\r\n",
        "\r\n",
        "def extract_review(x):\r\n",
        "  rating = []\r\n",
        "  pro_review = x.split('|')\r\n",
        "  for review in pro_review:\r\n",
        "    if review.count('//')==4: \r\n",
        "      rating.append(review.split(\"//\")[4].translate(str.maketrans('', '', string.punctuation)))\r\n",
        "  try:\r\n",
        "    return rating\r\n",
        "  except:\r\n",
        "    return [\"\"]"
      ],
      "execution_count": 30,
      "outputs": []
    },
    {
      "cell_type": "code",
      "metadata": {
        "id": "RHp2uOn0QeCa"
      },
      "source": [
        "temp_df['average_rating_cal'] = temp_df['customer_reviews'].apply(lambda x:get_avg_rating(x))\r\n",
        "temp_df['review_single'] = temp_df['customer_reviews'].apply(lambda x:extract_review(x))\r\n",
        "test_temp_df['average_rating_cal'] = test_temp_df['customer_reviews'].apply(lambda x:get_avg_rating(x))\r\n",
        "test_temp_df['review_single'] = test_temp_df['customer_reviews'].apply(lambda x:extract_review(x))"
      ],
      "execution_count": 31,
      "outputs": []
    },
    {
      "cell_type": "markdown",
      "metadata": {
        "id": "w_sJ2x9wwJhY"
      },
      "source": [
        "Drop rows with null reviews."
      ]
    },
    {
      "cell_type": "code",
      "metadata": {
        "id": "5eDBSAHeKJAv"
      },
      "source": [
        "count = 0\n",
        "for x in temp_df['review_single']:\n",
        "  count = count+1\n",
        "  if len(x) == 0:\n",
        "    temp_df=temp_df.drop(count-1)"
      ],
      "execution_count": 32,
      "outputs": []
    },
    {
      "cell_type": "code",
      "metadata": {
        "id": "cJtyzYhBCdd7"
      },
      "source": [
        "count = 0\n",
        "for x in test_temp_df['review_single']:\n",
        "  count = count+1\n",
        "  if len(x) == 0:\n",
        "    test_temp_df=test_temp_df.drop(count-1)"
      ],
      "execution_count": 33,
      "outputs": []
    },
    {
      "cell_type": "code",
      "metadata": {
        "id": "BY3bKnxD1tQT"
      },
      "source": [
        "temp_df.reset_index(drop=True, inplace=True)"
      ],
      "execution_count": 34,
      "outputs": []
    },
    {
      "cell_type": "code",
      "metadata": {
        "id": "ougarrAjClkE"
      },
      "source": [
        "test_temp_df.reset_index(drop=True, inplace=True)"
      ],
      "execution_count": 35,
      "outputs": []
    },
    {
      "cell_type": "markdown",
      "metadata": {
        "id": "2vCHQhx2wPRt"
      },
      "source": [
        "### Sentiment Analysis"
      ]
    },
    {
      "cell_type": "code",
      "metadata": {
        "id": "PbYnCUrBP5Ra",
        "colab": {
          "base_uri": "https://localhost:8080/",
          "height": 164,
          "referenced_widgets": [
            "52642d0dcce440fabed070e660c29e79",
            "5c8d69356ac94b108b6a0de5629915d1",
            "6ba5cbe3972c4425b498e4f1d0c97bce",
            "3736117090104dfaa6944a8aa1c46d91",
            "87e44b45f1d948aa8a26addf15de5679",
            "83c9ecde06454afdb4ea89313d30a7be",
            "d638a1d1ec36485b9e848336eb973ae5",
            "81305c927ddc4d2f82cdbee8df758c0b",
            "25031997c4144257a528546c6b151214",
            "1385ce7a354b42f5a3f3de665f442a35",
            "908a9359b23648b2babd2d4134bc5712",
            "99f34b750e0040f8808f46196f726bf4",
            "e342afeda4304bf9be81a6c17a4e74c6",
            "b8a1681f405643b1b5b489402dafc1ab",
            "52837c6c9e53402884765ca5c0d10d19",
            "34a44d131797490c902c239c6d2afbfe",
            "bbbcdbaca27548db83a741a1a00dcc4f",
            "07c84ba9169344c3a2b5a7d0b80ced46",
            "06988788106f4e759cc1ee7ccdc2a545",
            "1cda27e927e141ab844976fbfc1b72b5",
            "778f094d274c431aad6bfa254adf2410",
            "2e6e622351434a44bfcb94513434bcba",
            "a3d43c8c8a9f4ace90836d0e56b96e40",
            "4a4d445daeed48eca1f48a331e2174d5"
          ]
        },
        "outputId": "c36d50a8-aee1-4e83-d3d6-b8635cf3bc8f"
      },
      "source": [
        "model = pipeline('sentiment-analysis')\r\n",
        "def sentiment(x):\r\n",
        "  score = []\r\n",
        "  result = model(x)\r\n",
        "  for i in result:\r\n",
        "    if i['label']=='NEGATIVE':\r\n",
        "      score.append(1-i['score'])\r\n",
        "    else:\r\n",
        "      score.append(i['score'])\r\n",
        "      pass\r\n",
        "  return mean(score)"
      ],
      "execution_count": 36,
      "outputs": [
        {
          "output_type": "display_data",
          "data": {
            "application/vnd.jupyter.widget-view+json": {
              "model_id": "52642d0dcce440fabed070e660c29e79",
              "version_minor": 0,
              "version_major": 2
            },
            "text/plain": [
              "HBox(children=(FloatProgress(value=0.0, description='Downloading', max=629.0, style=ProgressStyle(description_…"
            ]
          },
          "metadata": {
            "tags": []
          }
        },
        {
          "output_type": "stream",
          "text": [
            "\n"
          ],
          "name": "stdout"
        },
        {
          "output_type": "display_data",
          "data": {
            "application/vnd.jupyter.widget-view+json": {
              "model_id": "25031997c4144257a528546c6b151214",
              "version_minor": 0,
              "version_major": 2
            },
            "text/plain": [
              "HBox(children=(FloatProgress(value=0.0, description='Downloading', max=267844284.0, style=ProgressStyle(descri…"
            ]
          },
          "metadata": {
            "tags": []
          }
        },
        {
          "output_type": "stream",
          "text": [
            "\n"
          ],
          "name": "stdout"
        },
        {
          "output_type": "display_data",
          "data": {
            "application/vnd.jupyter.widget-view+json": {
              "model_id": "bbbcdbaca27548db83a741a1a00dcc4f",
              "version_minor": 0,
              "version_major": 2
            },
            "text/plain": [
              "HBox(children=(FloatProgress(value=0.0, description='Downloading', max=231508.0, style=ProgressStyle(descripti…"
            ]
          },
          "metadata": {
            "tags": []
          }
        },
        {
          "output_type": "stream",
          "text": [
            "\n"
          ],
          "name": "stdout"
        }
      ]
    },
    {
      "cell_type": "markdown",
      "metadata": {
        "id": "8_46XRDwwX7x"
      },
      "source": [
        "Apply sentement analysis on data"
      ]
    },
    {
      "cell_type": "code",
      "metadata": {
        "id": "Y8b_ofRZfrgB"
      },
      "source": [
        "temp_df['sentiment_score'] = temp_df['review_single'].apply(lambda x:sentiment(x))"
      ],
      "execution_count": 37,
      "outputs": []
    },
    {
      "cell_type": "code",
      "metadata": {
        "colab": {
          "base_uri": "https://localhost:8080/",
          "height": 1000
        },
        "id": "guKwQ7KbKzK9",
        "outputId": "978ad0cf-a983-4310-c93f-2d899156dbb3"
      },
      "source": [
        "temp_df"
      ],
      "execution_count": 38,
      "outputs": [
        {
          "output_type": "execute_result",
          "data": {
            "text/html": [
              "<div>\n",
              "<style scoped>\n",
              "    .dataframe tbody tr th:only-of-type {\n",
              "        vertical-align: middle;\n",
              "    }\n",
              "\n",
              "    .dataframe tbody tr th {\n",
              "        vertical-align: top;\n",
              "    }\n",
              "\n",
              "    .dataframe thead th {\n",
              "        text-align: right;\n",
              "    }\n",
              "</style>\n",
              "<table border=\"1\" class=\"dataframe\">\n",
              "  <thead>\n",
              "    <tr style=\"text-align: right;\">\n",
              "      <th></th>\n",
              "      <th>product_name</th>\n",
              "      <th>manufacturer</th>\n",
              "      <th>price</th>\n",
              "      <th>number_of_reviews</th>\n",
              "      <th>number_of_answered_questions</th>\n",
              "      <th>amazon_category_and_sub_category</th>\n",
              "      <th>customers_who_bought_this_item_also_bought</th>\n",
              "      <th>description</th>\n",
              "      <th>product_information</th>\n",
              "      <th>customer_reviews</th>\n",
              "      <th>average_review_rating</th>\n",
              "      <th>available</th>\n",
              "      <th>new_used</th>\n",
              "      <th>average_rating_cal</th>\n",
              "      <th>review_single</th>\n",
              "      <th>sentiment_score</th>\n",
              "    </tr>\n",
              "  </thead>\n",
              "  <tbody>\n",
              "    <tr>\n",
              "      <th>0</th>\n",
              "      <td>Batman - Role Play - Cowl and Batarang</td>\n",
              "      <td>Mattel</td>\n",
              "      <td>14.99</td>\n",
              "      <td>4.0</td>\n",
              "      <td>1.0</td>\n",
              "      <td>Figures &amp; Playsets &gt; Science Fiction &amp; Fantasy</td>\n",
              "      <td>http://www.amazon.co.uk/Rubies-Costume-Co-Flas...</td>\n",
              "      <td>When kids aspire to be like Batman, it's easy ...</td>\n",
              "      <td>Technical Details Item Weight113 g Product Dim...</td>\n",
              "      <td>Item was broken // 3.0 // 2 April 2014 // By\\n...</td>\n",
              "      <td>4.5</td>\n",
              "      <td>0.0</td>\n",
              "      <td>Not Applicable</td>\n",
              "      <td>4.5</td>\n",
              "      <td>[ the item itself was delivered on time howeve...</td>\n",
              "      <td>0.500323</td>\n",
              "    </tr>\n",
              "    <tr>\n",
              "      <th>1</th>\n",
              "      <td>Melissa &amp; Doug Sticker Collection - Pink</td>\n",
              "      <td>Melissa &amp; Doug</td>\n",
              "      <td>4.76</td>\n",
              "      <td>47.0</td>\n",
              "      <td>1.0</td>\n",
              "      <td>Arts &amp; Crafts &gt; Paper &amp; Stickers</td>\n",
              "      <td>http://www.amazon.co.uk/Melissa-Doug-Sticker-C...</td>\n",
              "      <td>Product Description Cute couture, adorable ani...</td>\n",
              "      <td>Technical Details Item Weight299 g Product Dim...</td>\n",
              "      <td>Great sticker collection // 5.0 // 19 Jun. 201...</td>\n",
              "      <td>4.7</td>\n",
              "      <td>15.0</td>\n",
              "      <td>new</td>\n",
              "      <td>4.5</td>\n",
              "      <td>[ Lovely sticker collection Each page is theme...</td>\n",
              "      <td>0.638603</td>\n",
              "    </tr>\n",
              "    <tr>\n",
              "      <th>2</th>\n",
              "      <td>Rock and Roll Cards, 30 Team</td>\n",
              "      <td>ClubKing Ltd</td>\n",
              "      <td>4.49</td>\n",
              "      <td>2.0</td>\n",
              "      <td>1.0</td>\n",
              "      <td>Hobbies &gt; Trading Cards &amp; Accessories &gt; Packs ...</td>\n",
              "      <td>http://www.amazon.co.uk/ClubKing-Ltd-Football-...</td>\n",
              "      <td>1 Pack of 25 Football Cards, 30 rockstars on e...</td>\n",
              "      <td>Technical Details Item Weight100 g Product Dim...</td>\n",
              "      <td>Rock and roll cards // 5.0 // 28 July 2013 // ...</td>\n",
              "      <td>5.0</td>\n",
              "      <td>2.0</td>\n",
              "      <td>new</td>\n",
              "      <td>5.0</td>\n",
              "      <td>[ this were awesome fundraising with a kick so...</td>\n",
              "      <td>0.996933</td>\n",
              "    </tr>\n",
              "    <tr>\n",
              "      <th>3</th>\n",
              "      <td>Crayola 16 Pipsqueak Glitter Glues</td>\n",
              "      <td>Crayola</td>\n",
              "      <td>5.99</td>\n",
              "      <td>10.0</td>\n",
              "      <td>1.0</td>\n",
              "      <td>Characters &amp; Brands &gt; Crayola</td>\n",
              "      <td>http://www.amazon.co.uk/Crayola-3-3542-9-Glitt...</td>\n",
              "      <td>Product Description 16 Pipsqueak washable glit...</td>\n",
              "      <td>Technical Details Item Weight186 g Product Dim...</td>\n",
              "      <td>Little fingers big imagination // 5.0 // 4 Mar...</td>\n",
              "      <td>4.2</td>\n",
              "      <td>9.0</td>\n",
              "      <td>new</td>\n",
              "      <td>3.6</td>\n",
              "      <td>[ Bought this for grandson as he wasnt often a...</td>\n",
              "      <td>0.596298</td>\n",
              "    </tr>\n",
              "    <tr>\n",
              "      <th>4</th>\n",
              "      <td>MANDALORIAN SUPER COMMANDO - LEGO Star Wars Mi...</td>\n",
              "      <td>Star Wars</td>\n",
              "      <td>11.95</td>\n",
              "      <td>1.0</td>\n",
              "      <td>1.0</td>\n",
              "      <td>Characters &amp; Brands &gt; Star Wars &gt; Toys</td>\n",
              "      <td>http://www.amazon.co.uk/LEGO-Star-Wars-75022-M...</td>\n",
              "      <td>LEGO Star Wars Minifigure. Brand New minifigur...</td>\n",
              "      <td>Technical Details Item Weight9 g Product Dimen...</td>\n",
              "      <td>Four Stars // 4.0 // 25 Feb. 2015 // By\\n    \\...</td>\n",
              "      <td>4.0</td>\n",
              "      <td>0.0</td>\n",
              "      <td>Not Applicable</td>\n",
              "      <td>4.0</td>\n",
              "      <td>[ Yes it did]</td>\n",
              "      <td>0.999678</td>\n",
              "    </tr>\n",
              "    <tr>\n",
              "      <th>...</th>\n",
              "      <td>...</td>\n",
              "      <td>...</td>\n",
              "      <td>...</td>\n",
              "      <td>...</td>\n",
              "      <td>...</td>\n",
              "      <td>...</td>\n",
              "      <td>...</td>\n",
              "      <td>...</td>\n",
              "      <td>...</td>\n",
              "      <td>...</td>\n",
              "      <td>...</td>\n",
              "      <td>...</td>\n",
              "      <td>...</td>\n",
              "      <td>...</td>\n",
              "      <td>...</td>\n",
              "      <td>...</td>\n",
              "    </tr>\n",
              "    <tr>\n",
              "      <th>6359</th>\n",
              "      <td>Brookite Triple Nylon Pinwheel</td>\n",
              "      <td>Brookite</td>\n",
              "      <td>9.20</td>\n",
              "      <td>42.0</td>\n",
              "      <td>2.0</td>\n",
              "      <td>Sports Toys &amp; Outdoor &gt; Kites &amp; Flight Toys</td>\n",
              "      <td>http://www.amazon.co.uk/Brookite-HOAI01-Hot-Ai...</td>\n",
              "      <td>Product Description The Triple Nylon Pinwheel ...</td>\n",
              "      <td>Technical Details Item Weight200 g Product Dim...</td>\n",
              "      <td>Pinwheel Magic! // 4.0 // 26 Jun. 2013 // By\\n...</td>\n",
              "      <td>4.3</td>\n",
              "      <td>4.0</td>\n",
              "      <td>new</td>\n",
              "      <td>4.4</td>\n",
              "      <td>[ I wanted to brighten up my garden this summe...</td>\n",
              "      <td>0.681673</td>\n",
              "    </tr>\n",
              "    <tr>\n",
              "      <th>6360</th>\n",
              "      <td>Oxford Diecast Devon and Somerset F and R MAN ...</td>\n",
              "      <td>Oxford Diecast</td>\n",
              "      <td>16.43</td>\n",
              "      <td>1.0</td>\n",
              "      <td>1.0</td>\n",
              "      <td>Die-Cast &amp; Toy Vehicles &gt; Toy Vehicles &amp; Acces...</td>\n",
              "      <td>Not Applicable</td>\n",
              "      <td>Our model of the very modern fire appliance, r...</td>\n",
              "      <td>Technical Details Item Weight82 g Product Dime...</td>\n",
              "      <td>Oxford 1/76 Devon &amp; Somerset F and R Man Pump ...</td>\n",
              "      <td>4.0</td>\n",
              "      <td>2.0</td>\n",
              "      <td>new</td>\n",
              "      <td>4.0</td>\n",
              "      <td>[ The model is good but is in complete the mod...</td>\n",
              "      <td>0.113502</td>\n",
              "    </tr>\n",
              "    <tr>\n",
              "      <th>6361</th>\n",
              "      <td>Polyhedral 7-Die Borealis Dice Set - Sky Blue ...</td>\n",
              "      <td>Chessex</td>\n",
              "      <td>11.01</td>\n",
              "      <td>1.0</td>\n",
              "      <td>1.0</td>\n",
              "      <td>Games &gt; Dice &amp; Dice Games</td>\n",
              "      <td>http://www.amazon.co.uk/Polyhedral | http://ww...</td>\n",
              "      <td>Signature dice are a compilation of the best s...</td>\n",
              "      <td>Technical Details Item Weight54 g Product Dime...</td>\n",
              "      <td>High quality product, Exceeded expectations //...</td>\n",
              "      <td>5.0</td>\n",
              "      <td>4.0</td>\n",
              "      <td>new</td>\n",
              "      <td>5.0</td>\n",
              "      <td>[ Wonderful quality dice as can be expected fr...</td>\n",
              "      <td>0.993931</td>\n",
              "    </tr>\n",
              "    <tr>\n",
              "      <th>6362</th>\n",
              "      <td>Foxmind Map It!</td>\n",
              "      <td>Foxmind</td>\n",
              "      <td>10.00</td>\n",
              "      <td>1.0</td>\n",
              "      <td>1.0</td>\n",
              "      <td>Games &gt; Educational Games</td>\n",
              "      <td>http://www.amazon.co.uk/Wildcard-Games-Mapomin...</td>\n",
              "      <td>Product Description Do you know your Paris fro...</td>\n",
              "      <td>Technical Details Product Dimensions17.1 x 12....</td>\n",
              "      <td>fun, educational // 4.0 // 14 Jan. 2013 // By\\...</td>\n",
              "      <td>4.0</td>\n",
              "      <td>5.0</td>\n",
              "      <td>new</td>\n",
              "      <td>4.0</td>\n",
              "      <td>[ Neatly produced attractive card game very in...</td>\n",
              "      <td>0.871806</td>\n",
              "    </tr>\n",
              "    <tr>\n",
              "      <th>6363</th>\n",
              "      <td>Hot Toys Maleficent Movie Masterpiece Series S...</td>\n",
              "      <td>Hot Toys</td>\n",
              "      <td>185.99</td>\n",
              "      <td>2.0</td>\n",
              "      <td>1.0</td>\n",
              "      <td>Hobbies &gt; Collectible Figures &amp; Memorabilia &gt; ...</td>\n",
              "      <td>http://www.amazon.co.uk/Disney-Showcase-Collec...</td>\n",
              "      <td>Product Description \"Well, well.\" You know the...</td>\n",
              "      <td>Technical Details Item Weight1.2 Kg Product Di...</td>\n",
              "      <td>Well well.. // 5.0 // 6 July 2015 // By\\n    \\...</td>\n",
              "      <td>5.0</td>\n",
              "      <td>15.0</td>\n",
              "      <td>new</td>\n",
              "      <td>5.0</td>\n",
              "      <td>[ As a HUGE Maleficent fan and also a 16 colle...</td>\n",
              "      <td>0.781695</td>\n",
              "    </tr>\n",
              "  </tbody>\n",
              "</table>\n",
              "<p>6364 rows × 16 columns</p>\n",
              "</div>"
            ],
            "text/plain": [
              "                                           product_name  ... sentiment_score\n",
              "0                Batman - Role Play - Cowl and Batarang  ...        0.500323\n",
              "1              Melissa & Doug Sticker Collection - Pink  ...        0.638603\n",
              "2                          Rock and Roll Cards, 30 Team  ...        0.996933\n",
              "3                    Crayola 16 Pipsqueak Glitter Glues  ...        0.596298\n",
              "4     MANDALORIAN SUPER COMMANDO - LEGO Star Wars Mi...  ...        0.999678\n",
              "...                                                 ...  ...             ...\n",
              "6359                     Brookite Triple Nylon Pinwheel  ...        0.681673\n",
              "6360  Oxford Diecast Devon and Somerset F and R MAN ...  ...        0.113502\n",
              "6361  Polyhedral 7-Die Borealis Dice Set - Sky Blue ...  ...        0.993931\n",
              "6362                                    Foxmind Map It!  ...        0.871806\n",
              "6363  Hot Toys Maleficent Movie Masterpiece Series S...  ...        0.781695\n",
              "\n",
              "[6364 rows x 16 columns]"
            ]
          },
          "metadata": {
            "tags": []
          },
          "execution_count": 38
        }
      ]
    },
    {
      "cell_type": "code",
      "metadata": {
        "id": "CrJAQ5WvanCe"
      },
      "source": [
        "temp_df.to_csv(\"temp_df.csv\",index=False)"
      ],
      "execution_count": 39,
      "outputs": []
    },
    {
      "cell_type": "code",
      "metadata": {
        "id": "2zeHFv9tC2g-"
      },
      "source": [
        "test_temp_df['sentiment_score'] = test_temp_df['review_single'].apply(lambda x:sentiment(x))"
      ],
      "execution_count": 40,
      "outputs": []
    },
    {
      "cell_type": "code",
      "metadata": {
        "id": "0Ixd713Qd7fy"
      },
      "source": [
        "test_temp_df.to_csv(\"test_temp_df.csv\",index=False)"
      ],
      "execution_count": 41,
      "outputs": []
    },
    {
      "cell_type": "code",
      "metadata": {
        "id": "zZop2v1E5O1j"
      },
      "source": [
        "data = temp_df[['price','number_of_reviews','number_of_answered_questions','average_rating_cal','sentiment_score','average_review_rating']]\n",
        "data_test = test_temp_df[['price','number_of_reviews','number_of_answered_questions','average_rating_cal','sentiment_score']]"
      ],
      "execution_count": 42,
      "outputs": []
    },
    {
      "cell_type": "code",
      "metadata": {
        "colab": {
          "base_uri": "https://localhost:8080/",
          "height": 34
        },
        "id": "WnRWwOOqBjq5",
        "outputId": "f8997b9f-345b-4807-ec93-dba17ffc3b20"
      },
      "source": [
        "X = data.drop('average_review_rating',axis=1).values\n",
        "y = data['average_review_rating'].values\n",
        "X_train, X_test, y_train, y_test = train_test_split(X, y,test_size = 0.20, random_state=42)\n",
        "print(data.shape, X_train.shape, X_test.shape,y_train.shape,y_test.shape)"
      ],
      "execution_count": 43,
      "outputs": [
        {
          "output_type": "display_data",
          "data": {
            "application/javascript": [
              "\n",
              "        if (window._pyforest_update_imports_cell) { window._pyforest_update_imports_cell('import pandas as pd\\nfrom sklearn.model_selection import train_test_split\\nimport tensorflow as tf\\nimport tqdm'); }\n",
              "    "
            ],
            "text/plain": [
              "<IPython.core.display.Javascript object>"
            ]
          },
          "metadata": {
            "tags": []
          }
        },
        {
          "output_type": "stream",
          "text": [
            "(6364, 6) (5091, 5) (1273, 5) (5091,) (1273,)\n"
          ],
          "name": "stdout"
        }
      ]
    },
    {
      "cell_type": "code",
      "metadata": {
        "id": "isOMwyRBCmXu"
      },
      "source": [
        "def get_score(model, X_train, X_test, y_train, y_test): \n",
        "        model.fit(X_train, y_train)\n",
        "        return model.score(X_test,y_test)\n",
        "\n",
        "def RMSE(model, X_train, X_test, y_train, y_test):\n",
        "    model.fit(X_train, y_train)\n",
        "    y_pred = model.predict(X_test)\n",
        "    y_pred_train = model.predict(X_train)\n",
        "    print(model)\n",
        "    print('RMSE_test', np.sqrt(mean_squared_error(y_test, y_pred)))\n",
        "    print('RMSE_train', np.sqrt(mean_squared_error(y_train, y_pred_train)))"
      ],
      "execution_count": 44,
      "outputs": []
    },
    {
      "cell_type": "code",
      "metadata": {
        "colab": {
          "base_uri": "https://localhost:8080/",
          "height": 224
        },
        "id": "tS-yMdHoBy1C",
        "outputId": "f1f17ba3-53cb-4dec-bb62-7a4d2fbac7ab"
      },
      "source": [
        "print('XGBRegressor',RMSE(XGBRegressor(), X_train, X_test, y_train, y_test))"
      ],
      "execution_count": 45,
      "outputs": [
        {
          "output_type": "stream",
          "text": [
            "[19:13:31] WARNING: /workspace/src/objective/regression_obj.cu:152: reg:linear is now deprecated in favor of reg:squarederror.\n",
            "XGBRegressor(base_score=0.5, booster='gbtree', colsample_bylevel=1,\n",
            "             colsample_bynode=1, colsample_bytree=1, gamma=0,\n",
            "             importance_type='gain', learning_rate=0.1, max_delta_step=0,\n",
            "             max_depth=3, min_child_weight=1, missing=None, n_estimators=100,\n",
            "             n_jobs=1, nthread=None, objective='reg:linear', random_state=0,\n",
            "             reg_alpha=0, reg_lambda=1, scale_pos_weight=1, seed=None,\n",
            "             silent=None, subsample=1, verbosity=1)\n"
          ],
          "name": "stdout"
        },
        {
          "output_type": "display_data",
          "data": {
            "application/javascript": [
              "\n",
              "        if (window._pyforest_update_imports_cell) { window._pyforest_update_imports_cell('from sklearn.model_selection import train_test_split\\nimport numpy as np\\nimport tqdm\\nimport pandas as pd\\nimport tensorflow as tf'); }\n",
              "    "
            ],
            "text/plain": [
              "<IPython.core.display.Javascript object>"
            ]
          },
          "metadata": {
            "tags": []
          }
        },
        {
          "output_type": "stream",
          "text": [
            "RMSE_test 0.09964808502540566\n"
          ],
          "name": "stdout"
        },
        {
          "output_type": "display_data",
          "data": {
            "application/javascript": [
              "\n",
              "        if (window._pyforest_update_imports_cell) { window._pyforest_update_imports_cell('from sklearn.model_selection import train_test_split\\nimport numpy as np\\nimport tqdm\\nimport pandas as pd\\nimport tensorflow as tf'); }\n",
              "    "
            ],
            "text/plain": [
              "<IPython.core.display.Javascript object>"
            ]
          },
          "metadata": {
            "tags": []
          }
        },
        {
          "output_type": "stream",
          "text": [
            "RMSE_train 0.09284244916886601\n",
            "XGBRegressor None\n"
          ],
          "name": "stdout"
        }
      ]
    },
    {
      "cell_type": "code",
      "metadata": {
        "colab": {
          "base_uri": "https://localhost:8080/",
          "height": 54
        },
        "id": "tT3oDCSIB88d",
        "outputId": "51d199a4-615d-4b86-ee2e-69c6a009f9cc"
      },
      "source": [
        "Xgb = XGBRegressor(subsample= 0.1, reg_alpha= 0.08685113737513521, n_estimators= 500, max_depth= 3, learning_rate=0.05, colsample_bytree= 0.7000000000000001, colsample_bynode=0.7000000000000001, colsample_bylevel=0.9000000000000001)\n",
        "Xgb.fit(X,y)\n",
        "pred = Xgb.predict(data_test.values)\n",
        "pred_results = pd.DataFrame({\"prediction\" : pred})\n",
        "pred_results['prediction'] = pred_results['prediction'].apply(lambda x:round(x,1))\n",
        "pred_results.to_csv(\"predictions_xgboost.csv\",index=False)"
      ],
      "execution_count": 57,
      "outputs": [
        {
          "output_type": "stream",
          "text": [
            "[19:22:00] WARNING: /workspace/src/objective/regression_obj.cu:152: reg:linear is now deprecated in favor of reg:squarederror.\n"
          ],
          "name": "stdout"
        },
        {
          "output_type": "display_data",
          "data": {
            "application/javascript": [
              "\n",
              "        if (window._pyforest_update_imports_cell) { window._pyforest_update_imports_cell('import tensorflow as tf\\nfrom sklearn.model_selection import train_test_split\\nimport pickle\\nimport numpy as np\\nimport matplotlib.pyplot as plt\\nimport bokeh\\nimport altair as alt\\nimport plotly.express as px\\nimport pydot\\nimport re\\nimport tqdm\\nimport pandas as pd\\nimport lightgbm as lgb\\nimport plotly as py\\nfrom openpyxl import load_workbook'); }\n",
              "    "
            ],
            "text/plain": [
              "<IPython.core.display.Javascript object>"
            ]
          },
          "metadata": {
            "tags": []
          }
        }
      ]
    },
    {
      "cell_type": "code",
      "metadata": {
        "id": "LxgV6l6geMb1"
      },
      "source": [
        "pred_results['prediction'] = pred_results['prediction'].apply(lambda x:round(x,1))"
      ],
      "execution_count": 55,
      "outputs": []
    },
    {
      "cell_type": "code",
      "metadata": {
        "colab": {
          "base_uri": "https://localhost:8080/",
          "height": 419
        },
        "id": "RjO9P7Utfhln",
        "outputId": "9a3bfb72-431e-4c5e-c657-917ed4090c65"
      },
      "source": [
        "pred_results"
      ],
      "execution_count": 56,
      "outputs": [
        {
          "output_type": "execute_result",
          "data": {
            "text/html": [
              "<div>\n",
              "<style scoped>\n",
              "    .dataframe tbody tr th:only-of-type {\n",
              "        vertical-align: middle;\n",
              "    }\n",
              "\n",
              "    .dataframe tbody tr th {\n",
              "        vertical-align: top;\n",
              "    }\n",
              "\n",
              "    .dataframe thead th {\n",
              "        text-align: right;\n",
              "    }\n",
              "</style>\n",
              "<table border=\"1\" class=\"dataframe\">\n",
              "  <thead>\n",
              "    <tr style=\"text-align: right;\">\n",
              "      <th></th>\n",
              "      <th>prediction</th>\n",
              "    </tr>\n",
              "  </thead>\n",
              "  <tbody>\n",
              "    <tr>\n",
              "      <th>0</th>\n",
              "      <td>5.0</td>\n",
              "    </tr>\n",
              "    <tr>\n",
              "      <th>1</th>\n",
              "      <td>4.1</td>\n",
              "    </tr>\n",
              "    <tr>\n",
              "      <th>2</th>\n",
              "      <td>4.7</td>\n",
              "    </tr>\n",
              "    <tr>\n",
              "      <th>3</th>\n",
              "      <td>5.0</td>\n",
              "    </tr>\n",
              "    <tr>\n",
              "      <th>4</th>\n",
              "      <td>4.4</td>\n",
              "    </tr>\n",
              "    <tr>\n",
              "      <th>...</th>\n",
              "      <td>...</td>\n",
              "    </tr>\n",
              "    <tr>\n",
              "      <th>2111</th>\n",
              "      <td>4.0</td>\n",
              "    </tr>\n",
              "    <tr>\n",
              "      <th>2112</th>\n",
              "      <td>4.7</td>\n",
              "    </tr>\n",
              "    <tr>\n",
              "      <th>2113</th>\n",
              "      <td>5.0</td>\n",
              "    </tr>\n",
              "    <tr>\n",
              "      <th>2114</th>\n",
              "      <td>5.0</td>\n",
              "    </tr>\n",
              "    <tr>\n",
              "      <th>2115</th>\n",
              "      <td>5.0</td>\n",
              "    </tr>\n",
              "  </tbody>\n",
              "</table>\n",
              "<p>2116 rows × 1 columns</p>\n",
              "</div>"
            ],
            "text/plain": [
              "      prediction\n",
              "0            5.0\n",
              "1            4.1\n",
              "2            4.7\n",
              "3            5.0\n",
              "4            4.4\n",
              "...          ...\n",
              "2111         4.0\n",
              "2112         4.7\n",
              "2113         5.0\n",
              "2114         5.0\n",
              "2115         5.0\n",
              "\n",
              "[2116 rows x 1 columns]"
            ]
          },
          "metadata": {
            "tags": []
          },
          "execution_count": 56
        }
      ]
    },
    {
      "cell_type": "code",
      "metadata": {
        "id": "MW-CIb2mf-UX"
      },
      "source": [
        ""
      ],
      "execution_count": null,
      "outputs": []
    }
  ]
}